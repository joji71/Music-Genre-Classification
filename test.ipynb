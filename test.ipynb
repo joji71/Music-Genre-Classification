{
 "cells": [
  {
   "cell_type": "code",
   "execution_count": 22,
   "id": "09c2a138",
   "metadata": {},
   "outputs": [],
   "source": [
    "import numpy as np\n",
    "import pandas as pd\n",
    "from sklearn.preprocessing import LabelEncoder\n",
    "from sklearn.preprocessing import StandardScaler\n",
    "from sklearn.model_selection import train_test_split\n",
    "from sklearn.metrics import accuracy_score\n",
    "from sklearn.linear_model import LogisticRegression\n",
    "from sklearn.neighbors import KNeighborsClassifier\n",
    "from sklearn.svm import SVC\n",
    "from sklearn.ensemble import RandomForestClassifier\n",
    "from sklearn.ensemble import VotingClassifier\n",
    "import pickle"
   ]
  },
  {
   "cell_type": "code",
   "execution_count": 23,
   "id": "8729b3e8",
   "metadata": {},
   "outputs": [],
   "source": [
    "# To read data\n",
    "data= pd.read_csv('Extracted_Data.csv')"
   ]
  },
  {
   "cell_type": "code",
   "execution_count": 24,
   "id": "09cb8642",
   "metadata": {},
   "outputs": [],
   "source": [
    "# To process data\n",
    "x1=LabelEncoder() \n",
    "data['label']= x1.fit_transform(data['label'])  "
   ]
  },
  {
   "cell_type": "code",
   "execution_count": 25,
   "id": "da5f15a4",
   "metadata": {},
   "outputs": [],
   "source": [
    "# To drop data\n",
    "data.drop(['filename'],axis=1,inplace=True)\n",
    "X = data.drop(columns = 'label', axis=1)\n",
    "Y = data['label']"
   ]
  },
  {
   "cell_type": "code",
   "execution_count": 26,
   "id": "46274734",
   "metadata": {},
   "outputs": [],
   "source": [
    "# To transform data\n",
    "scaler = StandardScaler()\n",
    "X= scaler.fit_transform(X)"
   ]
  },
  {
   "cell_type": "code",
   "execution_count": 27,
   "id": "f2b1ad0a",
   "metadata": {},
   "outputs": [],
   "source": [
    "from sklearn.model_selection import train_test_split\n",
    "x_train,x_test,y_train,y_test= train_test_split(X,Y,test_size=0.2,random_state=0)"
   ]
  },
  {
   "cell_type": "code",
   "execution_count": 28,
   "id": "e08b1e8a",
   "metadata": {},
   "outputs": [],
   "source": [
    "# RandomForestClassifier\n",
    "m1=RandomForestClassifier(n_estimators=100,random_state=0)\n",
    "m1.fit(x_train,y_train)\n",
    "predicitions=m1.predict(x_test)"
   ]
  },
  {
   "cell_type": "code",
   "execution_count": 29,
   "id": "bff18b29",
   "metadata": {},
   "outputs": [],
   "source": [
    "# LogisticRegression\n",
    "m2=LogisticRegression(max_iter=1000,random_state=0)\n",
    "m2.fit(x_train,y_train)\n",
    "predicitions=m2.predict(x_test)"
   ]
  },
  {
   "cell_type": "code",
   "execution_count": 30,
   "id": "95111830",
   "metadata": {},
   "outputs": [],
   "source": [
    "# KNeighborsClassifier\n",
    "m3=KNeighborsClassifier(n_neighbors=5)\n",
    "m3.fit(x_train,y_train)\n",
    "predicitions=m3.predict(x_test)"
   ]
  },
  {
   "cell_type": "code",
   "execution_count": 31,
   "id": "05a5d159",
   "metadata": {},
   "outputs": [],
   "source": [
    "# Support Vector Machine\n",
    "m4= SVC(kernel = 'linear',C=2)\n",
    "m4.fit(x_train,y_train)\n",
    "predicitions=m4.predict(x_test)"
   ]
  },
  {
   "cell_type": "code",
   "execution_count": 32,
   "id": "09d35052",
   "metadata": {},
   "outputs": [],
   "source": [
    "estimator=[['RandomForestClassifier:',m1],['LogisticRegression:', m2], \n",
    "             ['Knn :', m3],['Support Vector Machine :',m4]]"
   ]
  },
  {
   "cell_type": "code",
   "execution_count": 33,
   "id": "8c67376f",
   "metadata": {},
   "outputs": [],
   "source": [
    "# Hard Voting Model\n",
    "vot_hard = VotingClassifier(estimators = estimator, voting ='hard')\n",
    "vot_hard.fit(x_train, y_train)\n",
    "y_pred = vot_hard.predict(x_test)"
   ]
  },
  {
   "cell_type": "code",
   "execution_count": 34,
   "id": "862de197",
   "metadata": {},
   "outputs": [],
   "source": [
    "pickle.dump(vot_hard,open('model.pkl','wb'))"
   ]
  },
  {
   "cell_type": "code",
   "execution_count": 35,
   "id": "f647271a-36ed-4189-ac48-808e9b224258",
   "metadata": {},
   "outputs": [],
   "source": [
    "pickle.dump(scaler, open('StandardScaler.pkl', 'wb'))"
   ]
  }
 ],
 "metadata": {
  "kernelspec": {
   "display_name": "Python [conda env:base] *",
   "language": "python",
   "name": "conda-base-py"
  },
  "language_info": {
   "codemirror_mode": {
    "name": "ipython",
    "version": 3
   },
   "file_extension": ".py",
   "mimetype": "text/x-python",
   "name": "python",
   "nbconvert_exporter": "python",
   "pygments_lexer": "ipython3",
   "version": "3.12.7"
  }
 },
 "nbformat": 4,
 "nbformat_minor": 5
}
